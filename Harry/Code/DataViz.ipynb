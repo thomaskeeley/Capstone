{
 "cells": [
  {
   "cell_type": "code",
   "execution_count": 57,
   "metadata": {},
   "outputs": [],
   "source": [
    "import os\n",
    "from pathlib import Path\n",
    "import pandas as pd\n",
    "import plotly.graph_objects as go\n",
    "import urllib, json\n",
    "import plotly\n",
    "import numpy as np\n",
    "from plotly.offline import iplot\n",
    "#import plotly.plotly as py"
   ]
  },
  {
   "cell_type": "code",
   "execution_count": 58,
   "metadata": {},
   "outputs": [
    {
     "name": "stdout",
     "output_type": "stream",
     "text": [
      "megaStats.shape= (354, 21)\n"
     ]
    },
    {
     "data": {
      "text/plain": [
       "Index(['Unnamed: 0', 'numVoy', 'mmsi', 'numObsInVoys', 'type', 'ave_len_voy',\n",
       "       'ave_time_gap', 'ave_dist_gap', 'vi_dist_gap', 'vi_time_gap', 'numObs',\n",
       "       'numShips', 'numVoyages', 'aveNumVoyages', 'numVoyages_q25',\n",
       "       'vi_dist_diff_q75', 'vi_time_diff_q75', 'voy_len_q75', 'time_gap_q75',\n",
       "       'dist_gap_q75', 'shipNum'],\n",
       "      dtype='object')"
      ]
     },
     "execution_count": 58,
     "metadata": {},
     "output_type": "execute_result"
    }
   ],
   "source": [
    "#Read csv files\n",
    "path = \"C:\\\\Users\\\\harry\\\\Github\\\\CAP\\\\Capstone\\\\AIS_results\"\n",
    "\n",
    "shipStats = pd.read_csv(os.path.join(path,\"shipStats\"+\".csv\"),dtype=object)\n",
    "voyageStats = pd.read_csv(os.path.join(path,\"voyageStats\"+\".csv\"),dtype=object)\n",
    "norms = pd.read_csv(os.path.join(path,\"norms\"+\".csv\"),dtype=object)\n",
    "megaStats=pd.read_csv(os.path.join(path,\"megaStats\"+\".csv\"),dtype=object)\n",
    "\n",
    "shipTypes=[\"drifting_longlines\",\n",
    "\"fixed_gear\",\n",
    "\"pole_and_line\",\n",
    "\"purse_seines\",\n",
    "\"trawlers\",\n",
    "\"trollers\",\n",
    "\"unknown\"\n",
    "]\n",
    "megaStats['shipNum']=megaStats.index\n",
    "print(\"megaStats.shape=\",megaStats.shape)\n",
    "megaStats.columns\n"
   ]
  },
  {
   "cell_type": "code",
   "execution_count": 59,
   "metadata": {},
   "outputs": [
    {
     "data": {
      "text/plain": [
       "Index(['mmsi', 'type', 'ave_len_voy', 'voy_len_q75', 'ave_time_gap',\n",
       "       'time_gap_q75', 'ave_dist_gap', 'dist_gap_q75', 'shipNum', 'flow'],\n",
       "      dtype='object')"
      ]
     },
     "execution_count": 59,
     "metadata": {},
     "output_type": "execute_result"
    }
   ],
   "source": [
    "#dff=pd.DataFrame\n",
    "#print(dff.shape)\n",
    "#del dff\n",
    "dff=megaStats.loc[:,['mmsi','type','ave_len_voy','voy_len_q75','ave_time_gap','time_gap_q75','ave_dist_gap','dist_gap_q75','shipNum']]\n",
    "#dff.reset_index\n",
    "dff['flow']=1\n",
    "dff.columns\n",
    "condition=dff.type=='unknown'\n",
    "dff.drop(dff[condition].index, inplace=True)\n"
   ]
  },
  {
   "cell_type": "code",
   "execution_count": 60,
   "metadata": {},
   "outputs": [
    {
     "data": {
      "text/plain": [
       "count                234\n",
       "unique                 2\n",
       "top       Nominal Voyage\n",
       "freq                 200\n",
       "Name: risk-v-label, dtype: object"
      ]
     },
     "execution_count": 60,
     "metadata": {},
     "output_type": "execute_result"
    },
    {
     "data": {
      "text/plain": [
       "count                  234\n",
       "unique                   2\n",
       "top       Nominal Time Gap\n",
       "freq                   163\n",
       "Name: risk-t-label, dtype: object"
      ]
     },
     "execution_count": 60,
     "metadata": {},
     "output_type": "execute_result"
    },
    {
     "data": {
      "text/plain": [
       "count                  234\n",
       "unique                   2\n",
       "top       Nominal Dist Gap\n",
       "freq                   151\n",
       "Name: risk-d-label, dtype: object"
      ]
     },
     "execution_count": 60,
     "metadata": {},
     "output_type": "execute_result"
    }
   ],
   "source": [
    "#Set each of the Risk Factors in a boolean column and text label column\n",
    "dff['risk-v']=dff.ave_len_voy.astype(float)<dff.voy_len_q75.astype(float)\n",
    "temp = {True:'Long Voyage', False:'Nominal Voyage'}\n",
    "dff['risk-v-label'] = dff['risk-v'].map(temp)\n",
    "dff['risk-v-label'].describe()\n",
    "\n",
    "dff['risk-t']=dff.ave_time_gap.astype(float)>dff.time_gap_q75.astype(float)\n",
    "temp = {True:'Long Time Gap', False:'Nominal Time Gap'}\n",
    "dff['risk-t-label'] = dff['risk-t'].map(temp)\n",
    "dff['risk-t-label'].describe()\n",
    "\n",
    "dff['risk-d']=dff.ave_dist_gap.astype(float)>dff.dist_gap_q75.astype(float)\n",
    "temp = {True:'Long Dist Gap', False:'Nominal Dist Gap'}\n",
    "dff['risk-d-label'] = dff['risk-d'].map(temp)\n",
    "dff['risk-d-label'].describe()"
   ]
  },
  {
   "cell_type": "code",
   "execution_count": 61,
   "metadata": {},
   "outputs": [],
   "source": [
    "dff['risk-score']=dff['risk-v'].astype(int)+dff['risk-t'].astype(int)+dff['risk-d'].astype(int)"
   ]
  },
  {
   "cell_type": "code",
   "execution_count": 62,
   "metadata": {},
   "outputs": [
    {
     "data": {
      "text/plain": [
       "count    234.000000\n",
       "mean       0.803419\n",
       "std        0.942459\n",
       "min        0.000000\n",
       "25%        0.000000\n",
       "50%        0.000000\n",
       "75%        2.000000\n",
       "max        3.000000\n",
       "Name: risk-score, dtype: float64"
      ]
     },
     "execution_count": 62,
     "metadata": {},
     "output_type": "execute_result"
    }
   ],
   "source": [
    "dff['risk-score'].describe()"
   ]
  },
  {
   "cell_type": "code",
   "execution_count": 63,
   "metadata": {},
   "outputs": [
    {
     "data": {
      "text/plain": [
       "mmsi            object\n",
       "type            object\n",
       "ave_len_voy     object\n",
       "voy_len_q75     object\n",
       "ave_time_gap    object\n",
       "time_gap_q75    object\n",
       "ave_dist_gap    object\n",
       "dist_gap_q75    object\n",
       "shipNum          int64\n",
       "flow             int64\n",
       "risk-v            bool\n",
       "risk-v-label    object\n",
       "risk-t            bool\n",
       "risk-t-label    object\n",
       "risk-d            bool\n",
       "risk-d-label    object\n",
       "risk-score       int32\n",
       "dtype: object"
      ]
     },
     "execution_count": 63,
     "metadata": {},
     "output_type": "execute_result"
    },
    {
     "data": {
      "text/plain": [
       "234"
      ]
     },
     "execution_count": 63,
     "metadata": {},
     "output_type": "execute_result"
    },
    {
     "data": {
      "text/html": [
       "<div>\n",
       "<style scoped>\n",
       "    .dataframe tbody tr th:only-of-type {\n",
       "        vertical-align: middle;\n",
       "    }\n",
       "\n",
       "    .dataframe tbody tr th {\n",
       "        vertical-align: top;\n",
       "    }\n",
       "\n",
       "    .dataframe thead th {\n",
       "        text-align: right;\n",
       "    }\n",
       "</style>\n",
       "<table border=\"1\" class=\"dataframe\">\n",
       "  <thead>\n",
       "    <tr style=\"text-align: right;\">\n",
       "      <th></th>\n",
       "      <th>mmsi</th>\n",
       "      <th>type</th>\n",
       "      <th>ave_len_voy</th>\n",
       "      <th>voy_len_q75</th>\n",
       "      <th>ave_time_gap</th>\n",
       "      <th>time_gap_q75</th>\n",
       "      <th>ave_dist_gap</th>\n",
       "      <th>dist_gap_q75</th>\n",
       "      <th>shipNum</th>\n",
       "      <th>flow</th>\n",
       "      <th>risk-v</th>\n",
       "      <th>risk-v-label</th>\n",
       "      <th>risk-t</th>\n",
       "      <th>risk-t-label</th>\n",
       "      <th>risk-d</th>\n",
       "      <th>risk-d-label</th>\n",
       "      <th>risk-score</th>\n",
       "    </tr>\n",
       "  </thead>\n",
       "  <tbody>\n",
       "    <tr>\n",
       "      <th>0</th>\n",
       "      <td>1252339803566.0</td>\n",
       "      <td>trawlers</td>\n",
       "      <td>1804041.0134228189</td>\n",
       "      <td>946266.0</td>\n",
       "      <td>1423.3353352869563</td>\n",
       "      <td>2538.6162744395833</td>\n",
       "      <td>1.6812849843357016</td>\n",
       "      <td>1.5939254923600168</td>\n",
       "      <td>0</td>\n",
       "      <td>1</td>\n",
       "      <td>False</td>\n",
       "      <td>Nominal Voyage</td>\n",
       "      <td>False</td>\n",
       "      <td>Nominal Time Gap</td>\n",
       "      <td>True</td>\n",
       "      <td>Long Dist Gap</td>\n",
       "      <td>1</td>\n",
       "    </tr>\n",
       "    <tr>\n",
       "      <th>4</th>\n",
       "      <td>5020143137211.0</td>\n",
       "      <td>trawlers</td>\n",
       "      <td>523926.29292929295</td>\n",
       "      <td>946266.0</td>\n",
       "      <td>11169.609084755353</td>\n",
       "      <td>2538.6162744395833</td>\n",
       "      <td>1.8597717094330803</td>\n",
       "      <td>1.5939254923600168</td>\n",
       "      <td>4</td>\n",
       "      <td>1</td>\n",
       "      <td>True</td>\n",
       "      <td>Long Voyage</td>\n",
       "      <td>True</td>\n",
       "      <td>Long Time Gap</td>\n",
       "      <td>True</td>\n",
       "      <td>Long Dist Gap</td>\n",
       "      <td>3</td>\n",
       "    </tr>\n",
       "    <tr>\n",
       "      <th>5</th>\n",
       "      <td>5145483253513.0</td>\n",
       "      <td>trawlers</td>\n",
       "      <td>47177768.666666664</td>\n",
       "      <td>946266.0</td>\n",
       "      <td>1506.748832847966</td>\n",
       "      <td>2538.6162744395833</td>\n",
       "      <td>0.8275559029767446</td>\n",
       "      <td>1.5939254923600168</td>\n",
       "      <td>5</td>\n",
       "      <td>1</td>\n",
       "      <td>False</td>\n",
       "      <td>Nominal Voyage</td>\n",
       "      <td>False</td>\n",
       "      <td>Nominal Time Gap</td>\n",
       "      <td>False</td>\n",
       "      <td>Nominal Dist Gap</td>\n",
       "      <td>0</td>\n",
       "    </tr>\n",
       "    <tr>\n",
       "      <th>6</th>\n",
       "      <td>5601266154050.0</td>\n",
       "      <td>drifting_longlines</td>\n",
       "      <td>20199295.42857143</td>\n",
       "      <td>5445760.0</td>\n",
       "      <td>1523.2092907462097</td>\n",
       "      <td>2684.373689727463</td>\n",
       "      <td>1.5263581600264295</td>\n",
       "      <td>1.428384245279476</td>\n",
       "      <td>6</td>\n",
       "      <td>1</td>\n",
       "      <td>False</td>\n",
       "      <td>Nominal Voyage</td>\n",
       "      <td>False</td>\n",
       "      <td>Nominal Time Gap</td>\n",
       "      <td>True</td>\n",
       "      <td>Long Dist Gap</td>\n",
       "      <td>1</td>\n",
       "    </tr>\n",
       "    <tr>\n",
       "      <th>9</th>\n",
       "      <td>7572518792420.0</td>\n",
       "      <td>fixed_gear</td>\n",
       "      <td>132367507.0</td>\n",
       "      <td>170571.5</td>\n",
       "      <td>969.0</td>\n",
       "      <td>5121.719308035714</td>\n",
       "      <td>0.0006518724276573968</td>\n",
       "      <td>1.5636171172796722</td>\n",
       "      <td>9</td>\n",
       "      <td>1</td>\n",
       "      <td>False</td>\n",
       "      <td>Nominal Voyage</td>\n",
       "      <td>False</td>\n",
       "      <td>Nominal Time Gap</td>\n",
       "      <td>False</td>\n",
       "      <td>Nominal Dist Gap</td>\n",
       "      <td>0</td>\n",
       "    </tr>\n",
       "    <tr>\n",
       "      <th>...</th>\n",
       "      <td>...</td>\n",
       "      <td>...</td>\n",
       "      <td>...</td>\n",
       "      <td>...</td>\n",
       "      <td>...</td>\n",
       "      <td>...</td>\n",
       "      <td>...</td>\n",
       "      <td>...</td>\n",
       "      <td>...</td>\n",
       "      <td>...</td>\n",
       "      <td>...</td>\n",
       "      <td>...</td>\n",
       "      <td>...</td>\n",
       "      <td>...</td>\n",
       "      <td>...</td>\n",
       "      <td>...</td>\n",
       "      <td>...</td>\n",
       "    </tr>\n",
       "    <tr>\n",
       "      <th>349</th>\n",
       "      <td>277515277585463.0</td>\n",
       "      <td>trawlers</td>\n",
       "      <td>141132598.0</td>\n",
       "      <td>946266.0</td>\n",
       "      <td>NaN</td>\n",
       "      <td>2538.6162744395833</td>\n",
       "      <td>NaN</td>\n",
       "      <td>1.5939254923600168</td>\n",
       "      <td>349</td>\n",
       "      <td>1</td>\n",
       "      <td>False</td>\n",
       "      <td>Nominal Voyage</td>\n",
       "      <td>False</td>\n",
       "      <td>Nominal Time Gap</td>\n",
       "      <td>False</td>\n",
       "      <td>Nominal Dist Gap</td>\n",
       "      <td>0</td>\n",
       "    </tr>\n",
       "    <tr>\n",
       "      <th>350</th>\n",
       "      <td>278798244192815.0</td>\n",
       "      <td>drifting_longlines</td>\n",
       "      <td>26574367.4</td>\n",
       "      <td>5445760.0</td>\n",
       "      <td>NaN</td>\n",
       "      <td>2684.373689727463</td>\n",
       "      <td>NaN</td>\n",
       "      <td>1.428384245279476</td>\n",
       "      <td>350</td>\n",
       "      <td>1</td>\n",
       "      <td>False</td>\n",
       "      <td>Nominal Voyage</td>\n",
       "      <td>False</td>\n",
       "      <td>Nominal Time Gap</td>\n",
       "      <td>False</td>\n",
       "      <td>Nominal Dist Gap</td>\n",
       "      <td>0</td>\n",
       "    </tr>\n",
       "    <tr>\n",
       "      <th>351</th>\n",
       "      <td>280291299563683.0</td>\n",
       "      <td>fixed_gear</td>\n",
       "      <td>145459779.0</td>\n",
       "      <td>170571.5</td>\n",
       "      <td>NaN</td>\n",
       "      <td>5121.719308035714</td>\n",
       "      <td>NaN</td>\n",
       "      <td>1.5636171172796722</td>\n",
       "      <td>351</td>\n",
       "      <td>1</td>\n",
       "      <td>False</td>\n",
       "      <td>Nominal Voyage</td>\n",
       "      <td>False</td>\n",
       "      <td>Nominal Time Gap</td>\n",
       "      <td>False</td>\n",
       "      <td>Nominal Dist Gap</td>\n",
       "      <td>0</td>\n",
       "    </tr>\n",
       "    <tr>\n",
       "      <th>352</th>\n",
       "      <td>281060477973977.0</td>\n",
       "      <td>drifting_longlines</td>\n",
       "      <td>11751868.846153846</td>\n",
       "      <td>5445760.0</td>\n",
       "      <td>NaN</td>\n",
       "      <td>2684.373689727463</td>\n",
       "      <td>NaN</td>\n",
       "      <td>1.428384245279476</td>\n",
       "      <td>352</td>\n",
       "      <td>1</td>\n",
       "      <td>False</td>\n",
       "      <td>Nominal Voyage</td>\n",
       "      <td>False</td>\n",
       "      <td>Nominal Time Gap</td>\n",
       "      <td>False</td>\n",
       "      <td>Nominal Dist Gap</td>\n",
       "      <td>0</td>\n",
       "    </tr>\n",
       "    <tr>\n",
       "      <th>353</th>\n",
       "      <td>281205828320417.0</td>\n",
       "      <td>drifting_longlines</td>\n",
       "      <td>8211273.888888889</td>\n",
       "      <td>5445760.0</td>\n",
       "      <td>NaN</td>\n",
       "      <td>2684.373689727463</td>\n",
       "      <td>NaN</td>\n",
       "      <td>1.428384245279476</td>\n",
       "      <td>353</td>\n",
       "      <td>1</td>\n",
       "      <td>False</td>\n",
       "      <td>Nominal Voyage</td>\n",
       "      <td>False</td>\n",
       "      <td>Nominal Time Gap</td>\n",
       "      <td>False</td>\n",
       "      <td>Nominal Dist Gap</td>\n",
       "      <td>0</td>\n",
       "    </tr>\n",
       "  </tbody>\n",
       "</table>\n",
       "<p>234 rows × 17 columns</p>\n",
       "</div>"
      ],
      "text/plain": [
       "                  mmsi                type         ave_len_voy voy_len_q75  \\\n",
       "0      1252339803566.0            trawlers  1804041.0134228189    946266.0   \n",
       "4      5020143137211.0            trawlers  523926.29292929295    946266.0   \n",
       "5      5145483253513.0            trawlers  47177768.666666664    946266.0   \n",
       "6      5601266154050.0  drifting_longlines   20199295.42857143   5445760.0   \n",
       "9      7572518792420.0          fixed_gear         132367507.0    170571.5   \n",
       "..                 ...                 ...                 ...         ...   \n",
       "349  277515277585463.0            trawlers         141132598.0    946266.0   \n",
       "350  278798244192815.0  drifting_longlines          26574367.4   5445760.0   \n",
       "351  280291299563683.0          fixed_gear         145459779.0    170571.5   \n",
       "352  281060477973977.0  drifting_longlines  11751868.846153846   5445760.0   \n",
       "353  281205828320417.0  drifting_longlines   8211273.888888889   5445760.0   \n",
       "\n",
       "           ave_time_gap        time_gap_q75           ave_dist_gap  \\\n",
       "0    1423.3353352869563  2538.6162744395833     1.6812849843357016   \n",
       "4    11169.609084755353  2538.6162744395833     1.8597717094330803   \n",
       "5     1506.748832847966  2538.6162744395833     0.8275559029767446   \n",
       "6    1523.2092907462097   2684.373689727463     1.5263581600264295   \n",
       "9                 969.0   5121.719308035714  0.0006518724276573968   \n",
       "..                  ...                 ...                    ...   \n",
       "349                 NaN  2538.6162744395833                    NaN   \n",
       "350                 NaN   2684.373689727463                    NaN   \n",
       "351                 NaN   5121.719308035714                    NaN   \n",
       "352                 NaN   2684.373689727463                    NaN   \n",
       "353                 NaN   2684.373689727463                    NaN   \n",
       "\n",
       "           dist_gap_q75  shipNum  flow  risk-v    risk-v-label  risk-t  \\\n",
       "0    1.5939254923600168        0     1   False  Nominal Voyage   False   \n",
       "4    1.5939254923600168        4     1    True     Long Voyage    True   \n",
       "5    1.5939254923600168        5     1   False  Nominal Voyage   False   \n",
       "6     1.428384245279476        6     1   False  Nominal Voyage   False   \n",
       "9    1.5636171172796722        9     1   False  Nominal Voyage   False   \n",
       "..                  ...      ...   ...     ...             ...     ...   \n",
       "349  1.5939254923600168      349     1   False  Nominal Voyage   False   \n",
       "350   1.428384245279476      350     1   False  Nominal Voyage   False   \n",
       "351  1.5636171172796722      351     1   False  Nominal Voyage   False   \n",
       "352   1.428384245279476      352     1   False  Nominal Voyage   False   \n",
       "353   1.428384245279476      353     1   False  Nominal Voyage   False   \n",
       "\n",
       "         risk-t-label  risk-d      risk-d-label  risk-score  \n",
       "0    Nominal Time Gap    True     Long Dist Gap           1  \n",
       "4       Long Time Gap    True     Long Dist Gap           3  \n",
       "5    Nominal Time Gap   False  Nominal Dist Gap           0  \n",
       "6    Nominal Time Gap    True     Long Dist Gap           1  \n",
       "9    Nominal Time Gap   False  Nominal Dist Gap           0  \n",
       "..                ...     ...               ...         ...  \n",
       "349  Nominal Time Gap   False  Nominal Dist Gap           0  \n",
       "350  Nominal Time Gap   False  Nominal Dist Gap           0  \n",
       "351  Nominal Time Gap   False  Nominal Dist Gap           0  \n",
       "352  Nominal Time Gap   False  Nominal Dist Gap           0  \n",
       "353  Nominal Time Gap   False  Nominal Dist Gap           0  \n",
       "\n",
       "[234 rows x 17 columns]"
      ]
     },
     "execution_count": 63,
     "metadata": {},
     "output_type": "execute_result"
    }
   ],
   "source": [
    "dff.dtypes\n",
    "len(dff)\n",
    "dff"
   ]
  },
  {
   "cell_type": "code",
   "execution_count": 64,
   "metadata": {},
   "outputs": [],
   "source": [
    "def genSankey(df,cat_cols=[],value_cols='',title='Sankey Diagram'):\n",
    "    #from notes from GWU Data Viz class\n",
    "    # maximum of 6 value cols -> 6 colors\n",
    "    colorPalette = ['#4B8BBE','#306998','#FFE873','#FFD43B','#646464']\n",
    "    labelList = []\n",
    "    colorNumList = []\n",
    "    for catCol in cat_cols:\n",
    "        labelListTemp =  list(set(df[catCol].values))\n",
    "        colorNumList.append(len(labelListTemp))\n",
    "        labelList = labelList + labelListTemp\n",
    "        \n",
    "    # remove duplicates from labelList\n",
    "    labelList = list(dict.fromkeys(labelList))\n",
    "    \n",
    "    # define colors based on number of levels\n",
    "    colorList = []\n",
    "    for idx, colorNum in enumerate(colorNumList):\n",
    "        colorList = colorList + [colorPalette[idx]]*colorNum\n",
    "        \n",
    "    # transform df into a source-target pair\n",
    "    for i in range(len(cat_cols)-1):\n",
    "        if i==0:\n",
    "            sourceTargetDf = df[[cat_cols[i],cat_cols[i+1],value_cols]]\n",
    "            sourceTargetDf.columns = ['source','target','count']\n",
    "        else:\n",
    "            tempDf = df[[cat_cols[i],cat_cols[i+1],value_cols]]\n",
    "            tempDf.columns = ['source','target','count']\n",
    "            sourceTargetDf = pd.concat([sourceTargetDf,tempDf])\n",
    "        sourceTargetDf = sourceTargetDf.groupby(['source','target']).agg({'count':'sum'}).reset_index()\n",
    "        \n",
    "    # add index for source-target pair\n",
    "    sourceTargetDf['sourceID'] = sourceTargetDf['source'].apply(lambda x: labelList.index(x))\n",
    "    sourceTargetDf['targetID'] = sourceTargetDf['target'].apply(lambda x: labelList.index(x))\n",
    "    \n",
    "    # creating the sankey diagram\n",
    "    data = dict(\n",
    "        type='sankey',\n",
    "        node = dict(\n",
    "          pad = 15,\n",
    "          thickness = 20,\n",
    "          line = dict(\n",
    "            color = \"black\",\n",
    "            width = 0.5\n",
    "          ),\n",
    "          label = labelList,\n",
    "          color = colorList\n",
    "        ),\n",
    "        link = dict(\n",
    "          source = sourceTargetDf['sourceID'],\n",
    "          target = sourceTargetDf['targetID'],\n",
    "          value = sourceTargetDf['count']\n",
    "        )\n",
    "      )\n",
    "    \n",
    "    layout =  dict(\n",
    "        title = title,\n",
    "        font = dict(\n",
    "          size = 10\n",
    "        )\n",
    "    )\n",
    "       \n",
    "    fig = dict(data=[data], layout=layout)\n",
    "    return fig"
   ]
  },
  {
   "cell_type": "code",
   "execution_count": 65,
   "metadata": {},
   "outputs": [
    {
     "data": {
      "application/vnd.plotly.v1+json": {
       "config": {
        "linkText": "Export to plot.ly",
        "plotlyServerURL": "https://plot.ly",
        "showLink": false
       },
       "data": [
        {
         "link": {
          "source": [
           8,
           8,
           7,
           7,
           9,
           9,
           6,
           6,
           1,
           1,
           5,
           5,
           4,
           4,
           3,
           3,
           0,
           0,
           2,
           2
          ],
          "target": [
           10,
           11,
           8,
           9,
           10,
           11,
           8,
           9,
           7,
           6,
           7,
           6,
           7,
           6,
           7,
           6,
           7,
           6,
           7,
           6
          ],
          "value": [
           54,
           17,
           16,
           18,
           29,
           134,
           55,
           145,
           17,
           93,
           1,
           35,
           1,
           5,
           7,
           21,
           5,
           44,
           3,
           2
          ]
         },
         "node": {
          "color": [
           "#4B8BBE",
           "#4B8BBE",
           "#4B8BBE",
           "#4B8BBE",
           "#4B8BBE",
           "#4B8BBE",
           "#306998",
           "#306998",
           "#FFE873",
           "#FFE873",
           "#FFD43B",
           "#FFD43B"
          ],
          "label": [
           "trawlers",
           "drifting_longlines",
           "trollers",
           "purse_seines",
           "pole_and_line",
           "fixed_gear",
           "Nominal Voyage",
           "Long Voyage",
           "Long Time Gap",
           "Nominal Time Gap",
           "Long Dist Gap",
           "Nominal Dist Gap"
          ],
          "line": {
           "color": "black",
           "width": 0.5
          },
          "pad": 15,
          "thickness": 20
         },
         "type": "sankey"
        }
       ],
       "layout": {
        "font": {
         "size": 10
        },
        "template": {
         "data": {
          "bar": [
           {
            "error_x": {
             "color": "#2a3f5f"
            },
            "error_y": {
             "color": "#2a3f5f"
            },
            "marker": {
             "line": {
              "color": "#E5ECF6",
              "width": 0.5
             }
            },
            "type": "bar"
           }
          ],
          "barpolar": [
           {
            "marker": {
             "line": {
              "color": "#E5ECF6",
              "width": 0.5
             }
            },
            "type": "barpolar"
           }
          ],
          "carpet": [
           {
            "aaxis": {
             "endlinecolor": "#2a3f5f",
             "gridcolor": "white",
             "linecolor": "white",
             "minorgridcolor": "white",
             "startlinecolor": "#2a3f5f"
            },
            "baxis": {
             "endlinecolor": "#2a3f5f",
             "gridcolor": "white",
             "linecolor": "white",
             "minorgridcolor": "white",
             "startlinecolor": "#2a3f5f"
            },
            "type": "carpet"
           }
          ],
          "choropleth": [
           {
            "colorbar": {
             "outlinewidth": 0,
             "ticks": ""
            },
            "type": "choropleth"
           }
          ],
          "contour": [
           {
            "colorbar": {
             "outlinewidth": 0,
             "ticks": ""
            },
            "colorscale": [
             [
              0,
              "#0d0887"
             ],
             [
              0.1111111111111111,
              "#46039f"
             ],
             [
              0.2222222222222222,
              "#7201a8"
             ],
             [
              0.3333333333333333,
              "#9c179e"
             ],
             [
              0.4444444444444444,
              "#bd3786"
             ],
             [
              0.5555555555555556,
              "#d8576b"
             ],
             [
              0.6666666666666666,
              "#ed7953"
             ],
             [
              0.7777777777777778,
              "#fb9f3a"
             ],
             [
              0.8888888888888888,
              "#fdca26"
             ],
             [
              1,
              "#f0f921"
             ]
            ],
            "type": "contour"
           }
          ],
          "contourcarpet": [
           {
            "colorbar": {
             "outlinewidth": 0,
             "ticks": ""
            },
            "type": "contourcarpet"
           }
          ],
          "heatmap": [
           {
            "colorbar": {
             "outlinewidth": 0,
             "ticks": ""
            },
            "colorscale": [
             [
              0,
              "#0d0887"
             ],
             [
              0.1111111111111111,
              "#46039f"
             ],
             [
              0.2222222222222222,
              "#7201a8"
             ],
             [
              0.3333333333333333,
              "#9c179e"
             ],
             [
              0.4444444444444444,
              "#bd3786"
             ],
             [
              0.5555555555555556,
              "#d8576b"
             ],
             [
              0.6666666666666666,
              "#ed7953"
             ],
             [
              0.7777777777777778,
              "#fb9f3a"
             ],
             [
              0.8888888888888888,
              "#fdca26"
             ],
             [
              1,
              "#f0f921"
             ]
            ],
            "type": "heatmap"
           }
          ],
          "heatmapgl": [
           {
            "colorbar": {
             "outlinewidth": 0,
             "ticks": ""
            },
            "colorscale": [
             [
              0,
              "#0d0887"
             ],
             [
              0.1111111111111111,
              "#46039f"
             ],
             [
              0.2222222222222222,
              "#7201a8"
             ],
             [
              0.3333333333333333,
              "#9c179e"
             ],
             [
              0.4444444444444444,
              "#bd3786"
             ],
             [
              0.5555555555555556,
              "#d8576b"
             ],
             [
              0.6666666666666666,
              "#ed7953"
             ],
             [
              0.7777777777777778,
              "#fb9f3a"
             ],
             [
              0.8888888888888888,
              "#fdca26"
             ],
             [
              1,
              "#f0f921"
             ]
            ],
            "type": "heatmapgl"
           }
          ],
          "histogram": [
           {
            "marker": {
             "colorbar": {
              "outlinewidth": 0,
              "ticks": ""
             }
            },
            "type": "histogram"
           }
          ],
          "histogram2d": [
           {
            "colorbar": {
             "outlinewidth": 0,
             "ticks": ""
            },
            "colorscale": [
             [
              0,
              "#0d0887"
             ],
             [
              0.1111111111111111,
              "#46039f"
             ],
             [
              0.2222222222222222,
              "#7201a8"
             ],
             [
              0.3333333333333333,
              "#9c179e"
             ],
             [
              0.4444444444444444,
              "#bd3786"
             ],
             [
              0.5555555555555556,
              "#d8576b"
             ],
             [
              0.6666666666666666,
              "#ed7953"
             ],
             [
              0.7777777777777778,
              "#fb9f3a"
             ],
             [
              0.8888888888888888,
              "#fdca26"
             ],
             [
              1,
              "#f0f921"
             ]
            ],
            "type": "histogram2d"
           }
          ],
          "histogram2dcontour": [
           {
            "colorbar": {
             "outlinewidth": 0,
             "ticks": ""
            },
            "colorscale": [
             [
              0,
              "#0d0887"
             ],
             [
              0.1111111111111111,
              "#46039f"
             ],
             [
              0.2222222222222222,
              "#7201a8"
             ],
             [
              0.3333333333333333,
              "#9c179e"
             ],
             [
              0.4444444444444444,
              "#bd3786"
             ],
             [
              0.5555555555555556,
              "#d8576b"
             ],
             [
              0.6666666666666666,
              "#ed7953"
             ],
             [
              0.7777777777777778,
              "#fb9f3a"
             ],
             [
              0.8888888888888888,
              "#fdca26"
             ],
             [
              1,
              "#f0f921"
             ]
            ],
            "type": "histogram2dcontour"
           }
          ],
          "mesh3d": [
           {
            "colorbar": {
             "outlinewidth": 0,
             "ticks": ""
            },
            "type": "mesh3d"
           }
          ],
          "parcoords": [
           {
            "line": {
             "colorbar": {
              "outlinewidth": 0,
              "ticks": ""
             }
            },
            "type": "parcoords"
           }
          ],
          "pie": [
           {
            "automargin": true,
            "type": "pie"
           }
          ],
          "scatter": [
           {
            "marker": {
             "colorbar": {
              "outlinewidth": 0,
              "ticks": ""
             }
            },
            "type": "scatter"
           }
          ],
          "scatter3d": [
           {
            "line": {
             "colorbar": {
              "outlinewidth": 0,
              "ticks": ""
             }
            },
            "marker": {
             "colorbar": {
              "outlinewidth": 0,
              "ticks": ""
             }
            },
            "type": "scatter3d"
           }
          ],
          "scattercarpet": [
           {
            "marker": {
             "colorbar": {
              "outlinewidth": 0,
              "ticks": ""
             }
            },
            "type": "scattercarpet"
           }
          ],
          "scattergeo": [
           {
            "marker": {
             "colorbar": {
              "outlinewidth": 0,
              "ticks": ""
             }
            },
            "type": "scattergeo"
           }
          ],
          "scattergl": [
           {
            "marker": {
             "colorbar": {
              "outlinewidth": 0,
              "ticks": ""
             }
            },
            "type": "scattergl"
           }
          ],
          "scattermapbox": [
           {
            "marker": {
             "colorbar": {
              "outlinewidth": 0,
              "ticks": ""
             }
            },
            "type": "scattermapbox"
           }
          ],
          "scatterpolar": [
           {
            "marker": {
             "colorbar": {
              "outlinewidth": 0,
              "ticks": ""
             }
            },
            "type": "scatterpolar"
           }
          ],
          "scatterpolargl": [
           {
            "marker": {
             "colorbar": {
              "outlinewidth": 0,
              "ticks": ""
             }
            },
            "type": "scatterpolargl"
           }
          ],
          "scatterternary": [
           {
            "marker": {
             "colorbar": {
              "outlinewidth": 0,
              "ticks": ""
             }
            },
            "type": "scatterternary"
           }
          ],
          "surface": [
           {
            "colorbar": {
             "outlinewidth": 0,
             "ticks": ""
            },
            "colorscale": [
             [
              0,
              "#0d0887"
             ],
             [
              0.1111111111111111,
              "#46039f"
             ],
             [
              0.2222222222222222,
              "#7201a8"
             ],
             [
              0.3333333333333333,
              "#9c179e"
             ],
             [
              0.4444444444444444,
              "#bd3786"
             ],
             [
              0.5555555555555556,
              "#d8576b"
             ],
             [
              0.6666666666666666,
              "#ed7953"
             ],
             [
              0.7777777777777778,
              "#fb9f3a"
             ],
             [
              0.8888888888888888,
              "#fdca26"
             ],
             [
              1,
              "#f0f921"
             ]
            ],
            "type": "surface"
           }
          ],
          "table": [
           {
            "cells": {
             "fill": {
              "color": "#EBF0F8"
             },
             "line": {
              "color": "white"
             }
            },
            "header": {
             "fill": {
              "color": "#C8D4E3"
             },
             "line": {
              "color": "white"
             }
            },
            "type": "table"
           }
          ]
         },
         "layout": {
          "annotationdefaults": {
           "arrowcolor": "#2a3f5f",
           "arrowhead": 0,
           "arrowwidth": 1
          },
          "coloraxis": {
           "colorbar": {
            "outlinewidth": 0,
            "ticks": ""
           }
          },
          "colorscale": {
           "diverging": [
            [
             0,
             "#8e0152"
            ],
            [
             0.1,
             "#c51b7d"
            ],
            [
             0.2,
             "#de77ae"
            ],
            [
             0.3,
             "#f1b6da"
            ],
            [
             0.4,
             "#fde0ef"
            ],
            [
             0.5,
             "#f7f7f7"
            ],
            [
             0.6,
             "#e6f5d0"
            ],
            [
             0.7,
             "#b8e186"
            ],
            [
             0.8,
             "#7fbc41"
            ],
            [
             0.9,
             "#4d9221"
            ],
            [
             1,
             "#276419"
            ]
           ],
           "sequential": [
            [
             0,
             "#0d0887"
            ],
            [
             0.1111111111111111,
             "#46039f"
            ],
            [
             0.2222222222222222,
             "#7201a8"
            ],
            [
             0.3333333333333333,
             "#9c179e"
            ],
            [
             0.4444444444444444,
             "#bd3786"
            ],
            [
             0.5555555555555556,
             "#d8576b"
            ],
            [
             0.6666666666666666,
             "#ed7953"
            ],
            [
             0.7777777777777778,
             "#fb9f3a"
            ],
            [
             0.8888888888888888,
             "#fdca26"
            ],
            [
             1,
             "#f0f921"
            ]
           ],
           "sequentialminus": [
            [
             0,
             "#0d0887"
            ],
            [
             0.1111111111111111,
             "#46039f"
            ],
            [
             0.2222222222222222,
             "#7201a8"
            ],
            [
             0.3333333333333333,
             "#9c179e"
            ],
            [
             0.4444444444444444,
             "#bd3786"
            ],
            [
             0.5555555555555556,
             "#d8576b"
            ],
            [
             0.6666666666666666,
             "#ed7953"
            ],
            [
             0.7777777777777778,
             "#fb9f3a"
            ],
            [
             0.8888888888888888,
             "#fdca26"
            ],
            [
             1,
             "#f0f921"
            ]
           ]
          },
          "colorway": [
           "#636efa",
           "#EF553B",
           "#00cc96",
           "#ab63fa",
           "#FFA15A",
           "#19d3f3",
           "#FF6692",
           "#B6E880",
           "#FF97FF",
           "#FECB52"
          ],
          "font": {
           "color": "#2a3f5f"
          },
          "geo": {
           "bgcolor": "white",
           "lakecolor": "white",
           "landcolor": "#E5ECF6",
           "showlakes": true,
           "showland": true,
           "subunitcolor": "white"
          },
          "hoverlabel": {
           "align": "left"
          },
          "hovermode": "closest",
          "mapbox": {
           "style": "light"
          },
          "paper_bgcolor": "white",
          "plot_bgcolor": "#E5ECF6",
          "polar": {
           "angularaxis": {
            "gridcolor": "white",
            "linecolor": "white",
            "ticks": ""
           },
           "bgcolor": "#E5ECF6",
           "radialaxis": {
            "gridcolor": "white",
            "linecolor": "white",
            "ticks": ""
           }
          },
          "scene": {
           "xaxis": {
            "backgroundcolor": "#E5ECF6",
            "gridcolor": "white",
            "gridwidth": 2,
            "linecolor": "white",
            "showbackground": true,
            "ticks": "",
            "zerolinecolor": "white"
           },
           "yaxis": {
            "backgroundcolor": "#E5ECF6",
            "gridcolor": "white",
            "gridwidth": 2,
            "linecolor": "white",
            "showbackground": true,
            "ticks": "",
            "zerolinecolor": "white"
           },
           "zaxis": {
            "backgroundcolor": "#E5ECF6",
            "gridcolor": "white",
            "gridwidth": 2,
            "linecolor": "white",
            "showbackground": true,
            "ticks": "",
            "zerolinecolor": "white"
           }
          },
          "shapedefaults": {
           "line": {
            "color": "#2a3f5f"
           }
          },
          "ternary": {
           "aaxis": {
            "gridcolor": "white",
            "linecolor": "white",
            "ticks": ""
           },
           "baxis": {
            "gridcolor": "white",
            "linecolor": "white",
            "ticks": ""
           },
           "bgcolor": "#E5ECF6",
           "caxis": {
            "gridcolor": "white",
            "linecolor": "white",
            "ticks": ""
           }
          },
          "title": {
           "x": 0.05
          },
          "xaxis": {
           "automargin": true,
           "gridcolor": "white",
           "linecolor": "white",
           "ticks": "",
           "title": {
            "standoff": 15
           },
           "zerolinecolor": "white",
           "zerolinewidth": 2
          },
          "yaxis": {
           "automargin": true,
           "gridcolor": "white",
           "linecolor": "white",
           "ticks": "",
           "title": {
            "standoff": 15
           },
           "zerolinecolor": "white",
           "zerolinewidth": 2
          }
         }
        },
        "title": {
         "text": "Risk Factors"
        }
       }
      },
      "text/html": [
       "<div>\n",
       "        \n",
       "        \n",
       "            <div id=\"b276591a-aaed-425e-801c-dbb1bff56f0c\" class=\"plotly-graph-div\" style=\"height:525px; width:100%;\"></div>\n",
       "            <script type=\"text/javascript\">\n",
       "                require([\"plotly\"], function(Plotly) {\n",
       "                    window.PLOTLYENV=window.PLOTLYENV || {};\n",
       "                    \n",
       "                if (document.getElementById(\"b276591a-aaed-425e-801c-dbb1bff56f0c\")) {\n",
       "                    Plotly.newPlot(\n",
       "                        'b276591a-aaed-425e-801c-dbb1bff56f0c',\n",
       "                        [{\"link\": {\"source\": [8, 8, 7, 7, 9, 9, 6, 6, 1, 1, 5, 5, 4, 4, 3, 3, 0, 0, 2, 2], \"target\": [10, 11, 8, 9, 10, 11, 8, 9, 7, 6, 7, 6, 7, 6, 7, 6, 7, 6, 7, 6], \"value\": [54, 17, 16, 18, 29, 134, 55, 145, 17, 93, 1, 35, 1, 5, 7, 21, 5, 44, 3, 2]}, \"node\": {\"color\": [\"#4B8BBE\", \"#4B8BBE\", \"#4B8BBE\", \"#4B8BBE\", \"#4B8BBE\", \"#4B8BBE\", \"#306998\", \"#306998\", \"#FFE873\", \"#FFE873\", \"#FFD43B\", \"#FFD43B\"], \"label\": [\"trawlers\", \"drifting_longlines\", \"trollers\", \"purse_seines\", \"pole_and_line\", \"fixed_gear\", \"Nominal Voyage\", \"Long Voyage\", \"Long Time Gap\", \"Nominal Time Gap\", \"Long Dist Gap\", \"Nominal Dist Gap\"], \"line\": {\"color\": \"black\", \"width\": 0.5}, \"pad\": 15, \"thickness\": 20}, \"type\": \"sankey\"}],\n",
       "                        {\"font\": {\"size\": 10}, \"template\": {\"data\": {\"bar\": [{\"error_x\": {\"color\": \"#2a3f5f\"}, \"error_y\": {\"color\": \"#2a3f5f\"}, \"marker\": {\"line\": {\"color\": \"#E5ECF6\", \"width\": 0.5}}, \"type\": \"bar\"}], \"barpolar\": [{\"marker\": {\"line\": {\"color\": \"#E5ECF6\", \"width\": 0.5}}, \"type\": \"barpolar\"}], \"carpet\": [{\"aaxis\": {\"endlinecolor\": \"#2a3f5f\", \"gridcolor\": \"white\", \"linecolor\": \"white\", \"minorgridcolor\": \"white\", \"startlinecolor\": \"#2a3f5f\"}, \"baxis\": {\"endlinecolor\": \"#2a3f5f\", \"gridcolor\": \"white\", \"linecolor\": \"white\", \"minorgridcolor\": \"white\", \"startlinecolor\": \"#2a3f5f\"}, \"type\": \"carpet\"}], \"choropleth\": [{\"colorbar\": {\"outlinewidth\": 0, \"ticks\": \"\"}, \"type\": \"choropleth\"}], \"contour\": [{\"colorbar\": {\"outlinewidth\": 0, \"ticks\": \"\"}, \"colorscale\": [[0.0, \"#0d0887\"], [0.1111111111111111, \"#46039f\"], [0.2222222222222222, \"#7201a8\"], [0.3333333333333333, \"#9c179e\"], [0.4444444444444444, \"#bd3786\"], [0.5555555555555556, \"#d8576b\"], [0.6666666666666666, \"#ed7953\"], [0.7777777777777778, \"#fb9f3a\"], [0.8888888888888888, \"#fdca26\"], [1.0, \"#f0f921\"]], \"type\": \"contour\"}], \"contourcarpet\": [{\"colorbar\": {\"outlinewidth\": 0, \"ticks\": \"\"}, \"type\": \"contourcarpet\"}], \"heatmap\": [{\"colorbar\": {\"outlinewidth\": 0, \"ticks\": \"\"}, \"colorscale\": [[0.0, \"#0d0887\"], [0.1111111111111111, \"#46039f\"], [0.2222222222222222, \"#7201a8\"], [0.3333333333333333, \"#9c179e\"], [0.4444444444444444, \"#bd3786\"], [0.5555555555555556, \"#d8576b\"], [0.6666666666666666, \"#ed7953\"], [0.7777777777777778, \"#fb9f3a\"], [0.8888888888888888, \"#fdca26\"], [1.0, \"#f0f921\"]], \"type\": \"heatmap\"}], \"heatmapgl\": [{\"colorbar\": {\"outlinewidth\": 0, \"ticks\": \"\"}, \"colorscale\": [[0.0, \"#0d0887\"], [0.1111111111111111, \"#46039f\"], [0.2222222222222222, \"#7201a8\"], [0.3333333333333333, \"#9c179e\"], [0.4444444444444444, \"#bd3786\"], [0.5555555555555556, \"#d8576b\"], [0.6666666666666666, \"#ed7953\"], [0.7777777777777778, \"#fb9f3a\"], [0.8888888888888888, \"#fdca26\"], [1.0, \"#f0f921\"]], \"type\": \"heatmapgl\"}], \"histogram\": [{\"marker\": {\"colorbar\": {\"outlinewidth\": 0, \"ticks\": \"\"}}, \"type\": \"histogram\"}], \"histogram2d\": [{\"colorbar\": {\"outlinewidth\": 0, \"ticks\": \"\"}, \"colorscale\": [[0.0, \"#0d0887\"], [0.1111111111111111, \"#46039f\"], [0.2222222222222222, \"#7201a8\"], [0.3333333333333333, \"#9c179e\"], [0.4444444444444444, \"#bd3786\"], [0.5555555555555556, \"#d8576b\"], [0.6666666666666666, \"#ed7953\"], [0.7777777777777778, \"#fb9f3a\"], [0.8888888888888888, \"#fdca26\"], [1.0, \"#f0f921\"]], \"type\": \"histogram2d\"}], \"histogram2dcontour\": [{\"colorbar\": {\"outlinewidth\": 0, \"ticks\": \"\"}, \"colorscale\": [[0.0, \"#0d0887\"], [0.1111111111111111, \"#46039f\"], [0.2222222222222222, \"#7201a8\"], [0.3333333333333333, \"#9c179e\"], [0.4444444444444444, \"#bd3786\"], [0.5555555555555556, \"#d8576b\"], [0.6666666666666666, \"#ed7953\"], [0.7777777777777778, \"#fb9f3a\"], [0.8888888888888888, \"#fdca26\"], [1.0, \"#f0f921\"]], \"type\": \"histogram2dcontour\"}], \"mesh3d\": [{\"colorbar\": {\"outlinewidth\": 0, \"ticks\": \"\"}, \"type\": \"mesh3d\"}], \"parcoords\": [{\"line\": {\"colorbar\": {\"outlinewidth\": 0, \"ticks\": \"\"}}, \"type\": \"parcoords\"}], \"pie\": [{\"automargin\": true, \"type\": \"pie\"}], \"scatter\": [{\"marker\": {\"colorbar\": {\"outlinewidth\": 0, \"ticks\": \"\"}}, \"type\": \"scatter\"}], \"scatter3d\": [{\"line\": {\"colorbar\": {\"outlinewidth\": 0, \"ticks\": \"\"}}, \"marker\": {\"colorbar\": {\"outlinewidth\": 0, \"ticks\": \"\"}}, \"type\": \"scatter3d\"}], \"scattercarpet\": [{\"marker\": {\"colorbar\": {\"outlinewidth\": 0, \"ticks\": \"\"}}, \"type\": \"scattercarpet\"}], \"scattergeo\": [{\"marker\": {\"colorbar\": {\"outlinewidth\": 0, \"ticks\": \"\"}}, \"type\": \"scattergeo\"}], \"scattergl\": [{\"marker\": {\"colorbar\": {\"outlinewidth\": 0, \"ticks\": \"\"}}, \"type\": \"scattergl\"}], \"scattermapbox\": [{\"marker\": {\"colorbar\": {\"outlinewidth\": 0, \"ticks\": \"\"}}, \"type\": \"scattermapbox\"}], \"scatterpolar\": [{\"marker\": {\"colorbar\": {\"outlinewidth\": 0, \"ticks\": \"\"}}, \"type\": \"scatterpolar\"}], \"scatterpolargl\": [{\"marker\": {\"colorbar\": {\"outlinewidth\": 0, \"ticks\": \"\"}}, \"type\": \"scatterpolargl\"}], \"scatterternary\": [{\"marker\": {\"colorbar\": {\"outlinewidth\": 0, \"ticks\": \"\"}}, \"type\": \"scatterternary\"}], \"surface\": [{\"colorbar\": {\"outlinewidth\": 0, \"ticks\": \"\"}, \"colorscale\": [[0.0, \"#0d0887\"], [0.1111111111111111, \"#46039f\"], [0.2222222222222222, \"#7201a8\"], [0.3333333333333333, \"#9c179e\"], [0.4444444444444444, \"#bd3786\"], [0.5555555555555556, \"#d8576b\"], [0.6666666666666666, \"#ed7953\"], [0.7777777777777778, \"#fb9f3a\"], [0.8888888888888888, \"#fdca26\"], [1.0, \"#f0f921\"]], \"type\": \"surface\"}], \"table\": [{\"cells\": {\"fill\": {\"color\": \"#EBF0F8\"}, \"line\": {\"color\": \"white\"}}, \"header\": {\"fill\": {\"color\": \"#C8D4E3\"}, \"line\": {\"color\": \"white\"}}, \"type\": \"table\"}]}, \"layout\": {\"annotationdefaults\": {\"arrowcolor\": \"#2a3f5f\", \"arrowhead\": 0, \"arrowwidth\": 1}, \"coloraxis\": {\"colorbar\": {\"outlinewidth\": 0, \"ticks\": \"\"}}, \"colorscale\": {\"diverging\": [[0, \"#8e0152\"], [0.1, \"#c51b7d\"], [0.2, \"#de77ae\"], [0.3, \"#f1b6da\"], [0.4, \"#fde0ef\"], [0.5, \"#f7f7f7\"], [0.6, \"#e6f5d0\"], [0.7, \"#b8e186\"], [0.8, \"#7fbc41\"], [0.9, \"#4d9221\"], [1, \"#276419\"]], \"sequential\": [[0.0, \"#0d0887\"], [0.1111111111111111, \"#46039f\"], [0.2222222222222222, \"#7201a8\"], [0.3333333333333333, \"#9c179e\"], [0.4444444444444444, \"#bd3786\"], [0.5555555555555556, \"#d8576b\"], [0.6666666666666666, \"#ed7953\"], [0.7777777777777778, \"#fb9f3a\"], [0.8888888888888888, \"#fdca26\"], [1.0, \"#f0f921\"]], \"sequentialminus\": [[0.0, \"#0d0887\"], [0.1111111111111111, \"#46039f\"], [0.2222222222222222, \"#7201a8\"], [0.3333333333333333, \"#9c179e\"], [0.4444444444444444, \"#bd3786\"], [0.5555555555555556, \"#d8576b\"], [0.6666666666666666, \"#ed7953\"], [0.7777777777777778, \"#fb9f3a\"], [0.8888888888888888, \"#fdca26\"], [1.0, \"#f0f921\"]]}, \"colorway\": [\"#636efa\", \"#EF553B\", \"#00cc96\", \"#ab63fa\", \"#FFA15A\", \"#19d3f3\", \"#FF6692\", \"#B6E880\", \"#FF97FF\", \"#FECB52\"], \"font\": {\"color\": \"#2a3f5f\"}, \"geo\": {\"bgcolor\": \"white\", \"lakecolor\": \"white\", \"landcolor\": \"#E5ECF6\", \"showlakes\": true, \"showland\": true, \"subunitcolor\": \"white\"}, \"hoverlabel\": {\"align\": \"left\"}, \"hovermode\": \"closest\", \"mapbox\": {\"style\": \"light\"}, \"paper_bgcolor\": \"white\", \"plot_bgcolor\": \"#E5ECF6\", \"polar\": {\"angularaxis\": {\"gridcolor\": \"white\", \"linecolor\": \"white\", \"ticks\": \"\"}, \"bgcolor\": \"#E5ECF6\", \"radialaxis\": {\"gridcolor\": \"white\", \"linecolor\": \"white\", \"ticks\": \"\"}}, \"scene\": {\"xaxis\": {\"backgroundcolor\": \"#E5ECF6\", \"gridcolor\": \"white\", \"gridwidth\": 2, \"linecolor\": \"white\", \"showbackground\": true, \"ticks\": \"\", \"zerolinecolor\": \"white\"}, \"yaxis\": {\"backgroundcolor\": \"#E5ECF6\", \"gridcolor\": \"white\", \"gridwidth\": 2, \"linecolor\": \"white\", \"showbackground\": true, \"ticks\": \"\", \"zerolinecolor\": \"white\"}, \"zaxis\": {\"backgroundcolor\": \"#E5ECF6\", \"gridcolor\": \"white\", \"gridwidth\": 2, \"linecolor\": \"white\", \"showbackground\": true, \"ticks\": \"\", \"zerolinecolor\": \"white\"}}, \"shapedefaults\": {\"line\": {\"color\": \"#2a3f5f\"}}, \"ternary\": {\"aaxis\": {\"gridcolor\": \"white\", \"linecolor\": \"white\", \"ticks\": \"\"}, \"baxis\": {\"gridcolor\": \"white\", \"linecolor\": \"white\", \"ticks\": \"\"}, \"bgcolor\": \"#E5ECF6\", \"caxis\": {\"gridcolor\": \"white\", \"linecolor\": \"white\", \"ticks\": \"\"}}, \"title\": {\"x\": 0.05}, \"xaxis\": {\"automargin\": true, \"gridcolor\": \"white\", \"linecolor\": \"white\", \"ticks\": \"\", \"title\": {\"standoff\": 15}, \"zerolinecolor\": \"white\", \"zerolinewidth\": 2}, \"yaxis\": {\"automargin\": true, \"gridcolor\": \"white\", \"linecolor\": \"white\", \"ticks\": \"\", \"title\": {\"standoff\": 15}, \"zerolinecolor\": \"white\", \"zerolinewidth\": 2}}}, \"title\": {\"text\": \"Risk Factors\"}},\n",
       "                        {\"responsive\": true}\n",
       "                    ).then(function(){\n",
       "                            \n",
       "var gd = document.getElementById('b276591a-aaed-425e-801c-dbb1bff56f0c');\n",
       "var x = new MutationObserver(function (mutations, observer) {{\n",
       "        var display = window.getComputedStyle(gd).display;\n",
       "        if (!display || display === 'none') {{\n",
       "            console.log([gd, 'removed!']);\n",
       "            Plotly.purge(gd);\n",
       "            observer.disconnect();\n",
       "        }}\n",
       "}});\n",
       "\n",
       "// Listen for the removal of the full notebook cells\n",
       "var notebookContainer = gd.closest('#notebook-container');\n",
       "if (notebookContainer) {{\n",
       "    x.observe(notebookContainer, {childList: true});\n",
       "}}\n",
       "\n",
       "// Listen for the clearing of the current output cell\n",
       "var outputEl = gd.closest('.output');\n",
       "if (outputEl) {{\n",
       "    x.observe(outputEl, {childList: true});\n",
       "}}\n",
       "\n",
       "                        })\n",
       "                };\n",
       "                });\n",
       "            </script>\n",
       "        </div>"
      ]
     },
     "metadata": {},
     "output_type": "display_data"
    },
    {
     "data": {
      "text/plain": [
       "'temp-plot.html'"
      ]
     },
     "execution_count": 65,
     "metadata": {},
     "output_type": "execute_result"
    }
   ],
   "source": [
    "fig=genSankey(dff,cat_cols=['type','risk-v-label','risk-t-label','risk-d-label'],\\\n",
    "              value_cols='flow', \\\n",
    "              title='Risk Factors')\n",
    "iplot(fig)\n",
    "plotly.offline.plot(fig, validate=False)"
   ]
  },
  {
   "cell_type": "code",
   "execution_count": null,
   "metadata": {},
   "outputs": [],
   "source": []
  },
  {
   "cell_type": "code",
   "execution_count": null,
   "metadata": {},
   "outputs": [],
   "source": [
    " "
   ]
  },
  {
   "cell_type": "code",
   "execution_count": null,
   "metadata": {},
   "outputs": [],
   "source": []
  },
  {
   "cell_type": "code",
   "execution_count": 75,
   "metadata": {},
   "outputs": [
    {
     "data": {
      "text/html": [
       "<div>\n",
       "<style scoped>\n",
       "    .dataframe tbody tr th:only-of-type {\n",
       "        vertical-align: middle;\n",
       "    }\n",
       "\n",
       "    .dataframe tbody tr th {\n",
       "        vertical-align: top;\n",
       "    }\n",
       "\n",
       "    .dataframe thead th {\n",
       "        text-align: right;\n",
       "    }\n",
       "</style>\n",
       "<table border=\"1\" class=\"dataframe\">\n",
       "  <thead>\n",
       "    <tr style=\"text-align: right;\">\n",
       "      <th></th>\n",
       "      <th>mmsi</th>\n",
       "      <th>type</th>\n",
       "      <th>ave_len_voy</th>\n",
       "      <th>voy_len_q75</th>\n",
       "      <th>ave_time_gap</th>\n",
       "      <th>time_gap_q75</th>\n",
       "      <th>ave_dist_gap</th>\n",
       "      <th>dist_gap_q75</th>\n",
       "      <th>shipNum</th>\n",
       "      <th>flow</th>\n",
       "      <th>risk-v</th>\n",
       "      <th>risk-v-label</th>\n",
       "      <th>risk-t</th>\n",
       "      <th>risk-t-label</th>\n",
       "      <th>risk-d</th>\n",
       "      <th>risk-d-label</th>\n",
       "      <th>risk-score</th>\n",
       "    </tr>\n",
       "  </thead>\n",
       "  <tbody>\n",
       "    <tr>\n",
       "      <th>0</th>\n",
       "      <td>1252339803566.0</td>\n",
       "      <td>trawlers</td>\n",
       "      <td>1804041.0134228189</td>\n",
       "      <td>946266.0</td>\n",
       "      <td>1423.3353352869563</td>\n",
       "      <td>2538.6162744395833</td>\n",
       "      <td>1.6812849843357016</td>\n",
       "      <td>1.5939254923600168</td>\n",
       "      <td>0</td>\n",
       "      <td>1</td>\n",
       "      <td>False</td>\n",
       "      <td>Nominal Voyage</td>\n",
       "      <td>False</td>\n",
       "      <td>Nominal Time Gap</td>\n",
       "      <td>True</td>\n",
       "      <td>Long Dist Gap</td>\n",
       "      <td>1</td>\n",
       "    </tr>\n",
       "    <tr>\n",
       "      <th>4</th>\n",
       "      <td>5020143137211.0</td>\n",
       "      <td>trawlers</td>\n",
       "      <td>523926.29292929295</td>\n",
       "      <td>946266.0</td>\n",
       "      <td>11169.609084755353</td>\n",
       "      <td>2538.6162744395833</td>\n",
       "      <td>1.8597717094330803</td>\n",
       "      <td>1.5939254923600168</td>\n",
       "      <td>4</td>\n",
       "      <td>1</td>\n",
       "      <td>True</td>\n",
       "      <td>Long Voyage</td>\n",
       "      <td>True</td>\n",
       "      <td>Long Time Gap</td>\n",
       "      <td>True</td>\n",
       "      <td>Long Dist Gap</td>\n",
       "      <td>3</td>\n",
       "    </tr>\n",
       "    <tr>\n",
       "      <th>5</th>\n",
       "      <td>5145483253513.0</td>\n",
       "      <td>trawlers</td>\n",
       "      <td>47177768.666666664</td>\n",
       "      <td>946266.0</td>\n",
       "      <td>1506.748832847966</td>\n",
       "      <td>2538.6162744395833</td>\n",
       "      <td>0.8275559029767446</td>\n",
       "      <td>1.5939254923600168</td>\n",
       "      <td>5</td>\n",
       "      <td>1</td>\n",
       "      <td>False</td>\n",
       "      <td>Nominal Voyage</td>\n",
       "      <td>False</td>\n",
       "      <td>Nominal Time Gap</td>\n",
       "      <td>False</td>\n",
       "      <td>Nominal Dist Gap</td>\n",
       "      <td>0</td>\n",
       "    </tr>\n",
       "    <tr>\n",
       "      <th>6</th>\n",
       "      <td>5601266154050.0</td>\n",
       "      <td>drifting_longlines</td>\n",
       "      <td>20199295.42857143</td>\n",
       "      <td>5445760.0</td>\n",
       "      <td>1523.2092907462097</td>\n",
       "      <td>2684.373689727463</td>\n",
       "      <td>1.5263581600264295</td>\n",
       "      <td>1.428384245279476</td>\n",
       "      <td>6</td>\n",
       "      <td>1</td>\n",
       "      <td>False</td>\n",
       "      <td>Nominal Voyage</td>\n",
       "      <td>False</td>\n",
       "      <td>Nominal Time Gap</td>\n",
       "      <td>True</td>\n",
       "      <td>Long Dist Gap</td>\n",
       "      <td>1</td>\n",
       "    </tr>\n",
       "    <tr>\n",
       "      <th>9</th>\n",
       "      <td>7572518792420.0</td>\n",
       "      <td>fixed_gear</td>\n",
       "      <td>132367507.0</td>\n",
       "      <td>170571.5</td>\n",
       "      <td>969.0</td>\n",
       "      <td>5121.719308035714</td>\n",
       "      <td>0.0006518724276573968</td>\n",
       "      <td>1.5636171172796722</td>\n",
       "      <td>9</td>\n",
       "      <td>1</td>\n",
       "      <td>False</td>\n",
       "      <td>Nominal Voyage</td>\n",
       "      <td>False</td>\n",
       "      <td>Nominal Time Gap</td>\n",
       "      <td>False</td>\n",
       "      <td>Nominal Dist Gap</td>\n",
       "      <td>0</td>\n",
       "    </tr>\n",
       "    <tr>\n",
       "      <th>...</th>\n",
       "      <td>...</td>\n",
       "      <td>...</td>\n",
       "      <td>...</td>\n",
       "      <td>...</td>\n",
       "      <td>...</td>\n",
       "      <td>...</td>\n",
       "      <td>...</td>\n",
       "      <td>...</td>\n",
       "      <td>...</td>\n",
       "      <td>...</td>\n",
       "      <td>...</td>\n",
       "      <td>...</td>\n",
       "      <td>...</td>\n",
       "      <td>...</td>\n",
       "      <td>...</td>\n",
       "      <td>...</td>\n",
       "      <td>...</td>\n",
       "    </tr>\n",
       "    <tr>\n",
       "      <th>349</th>\n",
       "      <td>277515277585463.0</td>\n",
       "      <td>trawlers</td>\n",
       "      <td>141132598.0</td>\n",
       "      <td>946266.0</td>\n",
       "      <td>NaN</td>\n",
       "      <td>2538.6162744395833</td>\n",
       "      <td>NaN</td>\n",
       "      <td>1.5939254923600168</td>\n",
       "      <td>349</td>\n",
       "      <td>1</td>\n",
       "      <td>False</td>\n",
       "      <td>Nominal Voyage</td>\n",
       "      <td>False</td>\n",
       "      <td>Nominal Time Gap</td>\n",
       "      <td>False</td>\n",
       "      <td>Nominal Dist Gap</td>\n",
       "      <td>0</td>\n",
       "    </tr>\n",
       "    <tr>\n",
       "      <th>350</th>\n",
       "      <td>278798244192815.0</td>\n",
       "      <td>drifting_longlines</td>\n",
       "      <td>26574367.4</td>\n",
       "      <td>5445760.0</td>\n",
       "      <td>NaN</td>\n",
       "      <td>2684.373689727463</td>\n",
       "      <td>NaN</td>\n",
       "      <td>1.428384245279476</td>\n",
       "      <td>350</td>\n",
       "      <td>1</td>\n",
       "      <td>False</td>\n",
       "      <td>Nominal Voyage</td>\n",
       "      <td>False</td>\n",
       "      <td>Nominal Time Gap</td>\n",
       "      <td>False</td>\n",
       "      <td>Nominal Dist Gap</td>\n",
       "      <td>0</td>\n",
       "    </tr>\n",
       "    <tr>\n",
       "      <th>351</th>\n",
       "      <td>280291299563683.0</td>\n",
       "      <td>fixed_gear</td>\n",
       "      <td>145459779.0</td>\n",
       "      <td>170571.5</td>\n",
       "      <td>NaN</td>\n",
       "      <td>5121.719308035714</td>\n",
       "      <td>NaN</td>\n",
       "      <td>1.5636171172796722</td>\n",
       "      <td>351</td>\n",
       "      <td>1</td>\n",
       "      <td>False</td>\n",
       "      <td>Nominal Voyage</td>\n",
       "      <td>False</td>\n",
       "      <td>Nominal Time Gap</td>\n",
       "      <td>False</td>\n",
       "      <td>Nominal Dist Gap</td>\n",
       "      <td>0</td>\n",
       "    </tr>\n",
       "    <tr>\n",
       "      <th>352</th>\n",
       "      <td>281060477973977.0</td>\n",
       "      <td>drifting_longlines</td>\n",
       "      <td>11751868.846153846</td>\n",
       "      <td>5445760.0</td>\n",
       "      <td>NaN</td>\n",
       "      <td>2684.373689727463</td>\n",
       "      <td>NaN</td>\n",
       "      <td>1.428384245279476</td>\n",
       "      <td>352</td>\n",
       "      <td>1</td>\n",
       "      <td>False</td>\n",
       "      <td>Nominal Voyage</td>\n",
       "      <td>False</td>\n",
       "      <td>Nominal Time Gap</td>\n",
       "      <td>False</td>\n",
       "      <td>Nominal Dist Gap</td>\n",
       "      <td>0</td>\n",
       "    </tr>\n",
       "    <tr>\n",
       "      <th>353</th>\n",
       "      <td>281205828320417.0</td>\n",
       "      <td>drifting_longlines</td>\n",
       "      <td>8211273.888888889</td>\n",
       "      <td>5445760.0</td>\n",
       "      <td>NaN</td>\n",
       "      <td>2684.373689727463</td>\n",
       "      <td>NaN</td>\n",
       "      <td>1.428384245279476</td>\n",
       "      <td>353</td>\n",
       "      <td>1</td>\n",
       "      <td>False</td>\n",
       "      <td>Nominal Voyage</td>\n",
       "      <td>False</td>\n",
       "      <td>Nominal Time Gap</td>\n",
       "      <td>False</td>\n",
       "      <td>Nominal Dist Gap</td>\n",
       "      <td>0</td>\n",
       "    </tr>\n",
       "  </tbody>\n",
       "</table>\n",
       "<p>234 rows × 17 columns</p>\n",
       "</div>"
      ],
      "text/plain": [
       "                  mmsi                type         ave_len_voy voy_len_q75  \\\n",
       "0      1252339803566.0            trawlers  1804041.0134228189    946266.0   \n",
       "4      5020143137211.0            trawlers  523926.29292929295    946266.0   \n",
       "5      5145483253513.0            trawlers  47177768.666666664    946266.0   \n",
       "6      5601266154050.0  drifting_longlines   20199295.42857143   5445760.0   \n",
       "9      7572518792420.0          fixed_gear         132367507.0    170571.5   \n",
       "..                 ...                 ...                 ...         ...   \n",
       "349  277515277585463.0            trawlers         141132598.0    946266.0   \n",
       "350  278798244192815.0  drifting_longlines          26574367.4   5445760.0   \n",
       "351  280291299563683.0          fixed_gear         145459779.0    170571.5   \n",
       "352  281060477973977.0  drifting_longlines  11751868.846153846   5445760.0   \n",
       "353  281205828320417.0  drifting_longlines   8211273.888888889   5445760.0   \n",
       "\n",
       "           ave_time_gap        time_gap_q75           ave_dist_gap  \\\n",
       "0    1423.3353352869563  2538.6162744395833     1.6812849843357016   \n",
       "4    11169.609084755353  2538.6162744395833     1.8597717094330803   \n",
       "5     1506.748832847966  2538.6162744395833     0.8275559029767446   \n",
       "6    1523.2092907462097   2684.373689727463     1.5263581600264295   \n",
       "9                 969.0   5121.719308035714  0.0006518724276573968   \n",
       "..                  ...                 ...                    ...   \n",
       "349                 NaN  2538.6162744395833                    NaN   \n",
       "350                 NaN   2684.373689727463                    NaN   \n",
       "351                 NaN   5121.719308035714                    NaN   \n",
       "352                 NaN   2684.373689727463                    NaN   \n",
       "353                 NaN   2684.373689727463                    NaN   \n",
       "\n",
       "           dist_gap_q75  shipNum  flow  risk-v    risk-v-label  risk-t  \\\n",
       "0    1.5939254923600168        0     1   False  Nominal Voyage   False   \n",
       "4    1.5939254923600168        4     1    True     Long Voyage    True   \n",
       "5    1.5939254923600168        5     1   False  Nominal Voyage   False   \n",
       "6     1.428384245279476        6     1   False  Nominal Voyage   False   \n",
       "9    1.5636171172796722        9     1   False  Nominal Voyage   False   \n",
       "..                  ...      ...   ...     ...             ...     ...   \n",
       "349  1.5939254923600168      349     1   False  Nominal Voyage   False   \n",
       "350   1.428384245279476      350     1   False  Nominal Voyage   False   \n",
       "351  1.5636171172796722      351     1   False  Nominal Voyage   False   \n",
       "352   1.428384245279476      352     1   False  Nominal Voyage   False   \n",
       "353   1.428384245279476      353     1   False  Nominal Voyage   False   \n",
       "\n",
       "         risk-t-label  risk-d      risk-d-label  risk-score  \n",
       "0    Nominal Time Gap    True     Long Dist Gap           1  \n",
       "4       Long Time Gap    True     Long Dist Gap           3  \n",
       "5    Nominal Time Gap   False  Nominal Dist Gap           0  \n",
       "6    Nominal Time Gap    True     Long Dist Gap           1  \n",
       "9    Nominal Time Gap   False  Nominal Dist Gap           0  \n",
       "..                ...     ...               ...         ...  \n",
       "349  Nominal Time Gap   False  Nominal Dist Gap           0  \n",
       "350  Nominal Time Gap   False  Nominal Dist Gap           0  \n",
       "351  Nominal Time Gap   False  Nominal Dist Gap           0  \n",
       "352  Nominal Time Gap   False  Nominal Dist Gap           0  \n",
       "353  Nominal Time Gap   False  Nominal Dist Gap           0  \n",
       "\n",
       "[234 rows x 17 columns]"
      ]
     },
     "execution_count": 75,
     "metadata": {},
     "output_type": "execute_result"
    }
   ],
   "source": [
    "\n",
    "dff\n"
   ]
  },
  {
   "cell_type": "code",
   "execution_count": 33,
   "metadata": {},
   "outputs": [
    {
     "data": {
      "text/plain": [
       "count    354.000000\n",
       "mean       1.531073\n",
       "std        0.855176\n",
       "min        0.000000\n",
       "25%        1.000000\n",
       "50%        2.000000\n",
       "75%        2.000000\n",
       "max        3.000000\n",
       "Name: riskSum, dtype: float64"
      ]
     },
     "execution_count": 33,
     "metadata": {},
     "output_type": "execute_result"
    }
   ],
   "source": []
  },
  {
   "cell_type": "code",
   "execution_count": 86,
   "metadata": {},
   "outputs": [
    {
     "data": {
      "text/html": [
       "<div>\n",
       "<style scoped>\n",
       "    .dataframe tbody tr th:only-of-type {\n",
       "        vertical-align: middle;\n",
       "    }\n",
       "\n",
       "    .dataframe tbody tr th {\n",
       "        vertical-align: top;\n",
       "    }\n",
       "\n",
       "    .dataframe thead th {\n",
       "        text-align: right;\n",
       "    }\n",
       "</style>\n",
       "<table border=\"1\" class=\"dataframe\">\n",
       "  <thead>\n",
       "    <tr style=\"text-align: right;\">\n",
       "      <th></th>\n",
       "      <th>mmsi</th>\n",
       "      <th>type</th>\n",
       "      <th>risk-score</th>\n",
       "    </tr>\n",
       "  </thead>\n",
       "  <tbody>\n",
       "    <tr>\n",
       "      <th>4</th>\n",
       "      <td>5020143137211.0</td>\n",
       "      <td>trawlers</td>\n",
       "      <td>3</td>\n",
       "    </tr>\n",
       "    <tr>\n",
       "      <th>33</th>\n",
       "      <td>23593130178765.0</td>\n",
       "      <td>drifting_longlines</td>\n",
       "      <td>3</td>\n",
       "    </tr>\n",
       "    <tr>\n",
       "      <th>81</th>\n",
       "      <td>63716389910332.0</td>\n",
       "      <td>purse_seines</td>\n",
       "      <td>3</td>\n",
       "    </tr>\n",
       "    <tr>\n",
       "      <th>94</th>\n",
       "      <td>77261928739173.0</td>\n",
       "      <td>trawlers</td>\n",
       "      <td>3</td>\n",
       "    </tr>\n",
       "    <tr>\n",
       "      <th>120</th>\n",
       "      <td>89110306461984.0</td>\n",
       "      <td>drifting_longlines</td>\n",
       "      <td>3</td>\n",
       "    </tr>\n",
       "    <tr>\n",
       "      <th>135</th>\n",
       "      <td>102111574707951.0</td>\n",
       "      <td>drifting_longlines</td>\n",
       "      <td>3</td>\n",
       "    </tr>\n",
       "    <tr>\n",
       "      <th>153</th>\n",
       "      <td>110014060911622.0</td>\n",
       "      <td>trawlers</td>\n",
       "      <td>3</td>\n",
       "    </tr>\n",
       "    <tr>\n",
       "      <th>171</th>\n",
       "      <td>125954407820672.0</td>\n",
       "      <td>trollers</td>\n",
       "      <td>3</td>\n",
       "    </tr>\n",
       "    <tr>\n",
       "      <th>271</th>\n",
       "      <td>207595838999742.0</td>\n",
       "      <td>drifting_longlines</td>\n",
       "      <td>3</td>\n",
       "    </tr>\n",
       "    <tr>\n",
       "      <th>284</th>\n",
       "      <td>218997104404214.0</td>\n",
       "      <td>trawlers</td>\n",
       "      <td>3</td>\n",
       "    </tr>\n",
       "  </tbody>\n",
       "</table>\n",
       "</div>"
      ],
      "text/plain": [
       "                  mmsi                type  risk-score\n",
       "4      5020143137211.0            trawlers           3\n",
       "33    23593130178765.0  drifting_longlines           3\n",
       "81    63716389910332.0        purse_seines           3\n",
       "94    77261928739173.0            trawlers           3\n",
       "120   89110306461984.0  drifting_longlines           3\n",
       "135  102111574707951.0  drifting_longlines           3\n",
       "153  110014060911622.0            trawlers           3\n",
       "171  125954407820672.0            trollers           3\n",
       "271  207595838999742.0  drifting_longlines           3\n",
       "284  218997104404214.0            trawlers           3"
      ]
     },
     "execution_count": 86,
     "metadata": {},
     "output_type": "execute_result"
    }
   ],
   "source": [
    "condition=dff['risk-score']==3\n",
    "riskyShips=dff.loc[condition,['mmsi','type','risk-score']]\n",
    "\n",
    "riskyShips\n"
   ]
  },
  {
   "cell_type": "code",
   "execution_count": 78,
   "metadata": {},
   "outputs": [
    {
     "data": {
      "text/html": [
       "<div>\n",
       "<style scoped>\n",
       "    .dataframe tbody tr th:only-of-type {\n",
       "        vertical-align: middle;\n",
       "    }\n",
       "\n",
       "    .dataframe tbody tr th {\n",
       "        vertical-align: top;\n",
       "    }\n",
       "\n",
       "    .dataframe thead th {\n",
       "        text-align: right;\n",
       "    }\n",
       "</style>\n",
       "<table border=\"1\" class=\"dataframe\">\n",
       "  <thead>\n",
       "    <tr style=\"text-align: right;\">\n",
       "      <th></th>\n",
       "      <th>risk-score</th>\n",
       "    </tr>\n",
       "  </thead>\n",
       "  <tbody>\n",
       "    <tr>\n",
       "      <th>4</th>\n",
       "      <td>3</td>\n",
       "    </tr>\n",
       "    <tr>\n",
       "      <th>33</th>\n",
       "      <td>3</td>\n",
       "    </tr>\n",
       "    <tr>\n",
       "      <th>81</th>\n",
       "      <td>3</td>\n",
       "    </tr>\n",
       "    <tr>\n",
       "      <th>94</th>\n",
       "      <td>3</td>\n",
       "    </tr>\n",
       "    <tr>\n",
       "      <th>120</th>\n",
       "      <td>3</td>\n",
       "    </tr>\n",
       "    <tr>\n",
       "      <th>135</th>\n",
       "      <td>3</td>\n",
       "    </tr>\n",
       "    <tr>\n",
       "      <th>153</th>\n",
       "      <td>3</td>\n",
       "    </tr>\n",
       "    <tr>\n",
       "      <th>171</th>\n",
       "      <td>3</td>\n",
       "    </tr>\n",
       "    <tr>\n",
       "      <th>271</th>\n",
       "      <td>3</td>\n",
       "    </tr>\n",
       "    <tr>\n",
       "      <th>284</th>\n",
       "      <td>3</td>\n",
       "    </tr>\n",
       "  </tbody>\n",
       "</table>\n",
       "</div>"
      ],
      "text/plain": [
       "     risk-score\n",
       "4             3\n",
       "33            3\n",
       "81            3\n",
       "94            3\n",
       "120           3\n",
       "135           3\n",
       "153           3\n",
       "171           3\n",
       "271           3\n",
       "284           3"
      ]
     },
     "execution_count": 78,
     "metadata": {},
     "output_type": "execute_result"
    }
   ],
   "source": []
  },
  {
   "cell_type": "code",
   "execution_count": null,
   "metadata": {
    "scrolled": true
   },
   "outputs": [],
   "source": []
  },
  {
   "cell_type": "code",
   "execution_count": null,
   "metadata": {},
   "outputs": [],
   "source": [
    "import plotly.graph_objects as go\n",
    "\n",
    "fig = go.Figure(data=[go.Sankey(\n",
    "    node = dict(\n",
    "      pad = 15,\n",
    "      thickness = 20,\n",
    "      line = dict(color = \"black\", width = 0.5),\n",
    "      label = shipTypes,\n",
    "      color = \"blue\"\n",
    "    ),\n",
    "    link = dict(\n",
    "      source = [0, 1, 0, 2, 3, 3], # indices correspond to labels, eg A1, A2, A2, B1, ...\n",
    "      target = [2, 3, 3, 4, 4, 5],\n",
    "      value = [8, 4, 2, 8, 4, 2]\n",
    "  ))])\n",
    "\n",
    "fig.update_layout(title_text=\"Basic Sankey Diagram\", font_size=10)\n",
    "fig.show()"
   ]
  },
  {
   "cell_type": "code",
   "execution_count": null,
   "metadata": {},
   "outputs": [],
   "source": [
    "import plotly.graph_objects as go\n",
    "import urllib, json\n",
    "import pandas as pd\n",
    "\n",
    "#url = 'https://raw.githubusercontent.com/plotly/plotly.js/master/test/image/mocks/sankey_energy.json'\n",
    "#response = urllib.request.urlopen(url)\n",
    "#data = json.loads(response.read())\n",
    "flows = pd.read_json('csvjson.json')\n",
    "fig = go.Figure(data=[go.Sankey(\n",
    "    valueformat = \".0f\",\n",
    "    valuesuffix = \"TWh\",\n",
    "    node = dict(\n",
    "      pad = 15,\n",
    "      thickness = 15,\n",
    "      line = dict(color = \"black\", width = 0.5),\n",
    "      label =  data['data'][0]['node']['label'],\n",
    "      color =  data['data'][0]['node']['color']\n",
    "    ),\n",
    "    link = dict(\n",
    "      source =  data['data'][0]['link']['source'],\n",
    "      target =  data['data'][0]['link']['target'],\n",
    "      value =  data['data'][0]['link']['value'],\n",
    "      label =  data['data'][0]['link']['label']\n",
    "  ))])\n",
    "\n",
    "fig.update_layout(\n",
    "    hovermode = 'x',\n",
    "    title=\"Energy forecast for 2050<br>Source: Department of Energy & Climate Change, Tom Counsell via <a href='https://bost.ocks.org/mike/sankey/'>Mike Bostock</a>\",\n",
    "    font=dict(size = 10, color = 'white'),\n",
    "    plot_bgcolor='black',\n",
    "    paper_bgcolor='black'\n",
    ")\n",
    "\n",
    "fig.show()"
   ]
  },
  {
   "cell_type": "code",
   "execution_count": null,
   "metadata": {},
   "outputs": [],
   "source": []
  }
 ],
 "metadata": {
  "kernelspec": {
   "display_name": "Python 3",
   "language": "python",
   "name": "python3"
  },
  "language_info": {
   "codemirror_mode": {
    "name": "ipython",
    "version": 3
   },
   "file_extension": ".py",
   "mimetype": "text/x-python",
   "name": "python",
   "nbconvert_exporter": "python",
   "pygments_lexer": "ipython3",
   "version": "3.7.6"
  }
 },
 "nbformat": 4,
 "nbformat_minor": 4
}
